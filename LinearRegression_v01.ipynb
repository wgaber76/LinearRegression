{
 "cells": [
  {
   "cell_type": "markdown",
   "id": "a065c469",
   "metadata": {},
   "source": [
    "Initiate the program by importing most important libraries"
   ]
  },
  {
   "cell_type": "code",
   "execution_count": 15,
   "id": "f4d7fae0",
   "metadata": {},
   "outputs": [],
   "source": [
    "import pandas as pd\n",
    "import numpy as np\n",
    "import random\n",
    "import statsmodels.api as sm\n",
    "import matplotlib.pyplot as plt\n",
    "%matplotlib inline\n",
    "#We are setting the seed to assure you get the same answers on quizzes as we set up\n",
    "random.seed(42)"
   ]
  },
  {
   "cell_type": "markdown",
   "id": "ab21be3b",
   "metadata": {},
   "source": [
    "Read csv data file"
   ]
  },
  {
   "cell_type": "code",
   "execution_count": 16,
   "id": "71d9eb6b",
   "metadata": {},
   "outputs": [
    {
     "name": "stdout",
     "output_type": "stream",
     "text": [
      "<class 'pandas.core.frame.DataFrame'>\n",
      "RangeIndex: 12 entries, 0 to 11\n",
      "Data columns (total 2 columns):\n",
      " #   Column  Non-Null Count  Dtype\n",
      "---  ------  --------------  -----\n",
      " 0   X       12 non-null     int64\n",
      " 1   Y       12 non-null     int64\n",
      "dtypes: int64(2)\n",
      "memory usage: 320.0 bytes\n"
     ]
    }
   ],
   "source": [
    "df = pd.read_csv('Example_LinReg.csv')\n",
    "df.info()\n",
    "\n"
   ]
  },
  {
   "cell_type": "code",
   "execution_count": 17,
   "id": "8ef1dd22",
   "metadata": {},
   "outputs": [
    {
     "name": "stdout",
     "output_type": "stream",
     "text": [
      "                            OLS Regression Results                            \n",
      "==============================================================================\n",
      "Dep. Variable:                      Y   R-squared:                       0.521\n",
      "Model:                            OLS   Adj. R-squared:                  0.474\n",
      "Method:                 Least Squares   F-statistic:                     10.90\n",
      "Date:                Sun, 29 May 2022   Prob (F-statistic):            0.00800\n",
      "Time:                        20:15:31   Log-Likelihood:                -77.601\n",
      "No. Observations:                  12   AIC:                             159.2\n",
      "Df Residuals:                      10   BIC:                             160.2\n",
      "Df Model:                           1                                         \n",
      "Covariance Type:            nonrobust                                         \n",
      "==============================================================================\n",
      "                 coef    std err          t      P>|t|      [0.025      0.975]\n",
      "------------------------------------------------------------------------------\n",
      "intercept    300.9763    229.754      1.310      0.219    -210.948     812.900\n",
      "X             10.3124      3.124      3.301      0.008       3.351      17.273\n",
      "==============================================================================\n",
      "Omnibus:                        2.589   Durbin-Watson:                   2.053\n",
      "Prob(Omnibus):                  0.274   Jarque-Bera (JB):                1.104\n",
      "Skew:                          -0.299   Prob(JB):                        0.576\n",
      "Kurtosis:                       1.640   Cond. No.                         343.\n",
      "==============================================================================\n",
      "\n",
      "Notes:\n",
      "[1] Standard Errors assume that the covariance matrix of the errors is correctly specified.\n"
     ]
    },
    {
     "name": "stderr",
     "output_type": "stream",
     "text": [
      "C:\\ProgramData\\Anaconda3\\lib\\site-packages\\scipy\\stats\\stats.py:1603: UserWarning: kurtosistest only valid for n>=20 ... continuing anyway, n=12\n",
      "  warnings.warn(\"kurtosistest only valid for n>=20 ... continuing \"\n"
     ]
    }
   ],
   "source": [
    "# Fit and summarize OLS model\n",
    "df['intercept']=1\n",
    "mod = sm.OLS(df['Y'],df[['intercept','X']])\n",
    "res = mod.fit()\n",
    "print(res.summary())"
   ]
  },
  {
   "cell_type": "code",
   "execution_count": 18,
   "id": "7fb8e535",
   "metadata": {},
   "outputs": [
    {
     "data": {
      "text/plain": [
       "10.312395122496921"
      ]
     },
     "execution_count": 18,
     "metadata": {},
     "output_type": "execute_result"
    }
   ],
   "source": [
    "res.params['X']"
   ]
  },
  {
   "cell_type": "code",
   "execution_count": 25,
   "id": "7575f2fe",
   "metadata": {},
   "outputs": [
    {
     "data": {
      "image/png": "[encoded data removed]",
      "text/plain": [
       "<Figure size 432x288 with 1 Axes>"
      ]
     },
     "metadata": {
      "needs_background": "light"
     },
     "output_type": "display_data"
    }
   ],
   "source": [
    "plt.scatter(df.X,df.Y)\n",
    "#df.plot(x='X', y='Y', kind='scatter')\n",
    "df['calcY']=res.params['X']*df['X']+res.params['intercept']\n",
    "plt.plot(df.X,df.calcY)\n",
    "#df.plot(x='X', y='calcY', kind='line')\n",
    "plt.show()"
   ]
  },
  {
   "cell_type": "code",
   "execution_count": 36,
   "id": "1a763391",
   "metadata": {},
   "outputs": [
    {
     "name": "stdout",
     "output_type": "stream",
     "text": [
      "10.895730087938528\n",
      "0.5214333283443291\n",
      "290824.12887347577\n",
      "316874.12112652423\n",
      "intercept    0.219491\n",
      "X            0.008002\n",
      "dtype: float64\n"
     ]
    }
   ],
   "source": [
    "print(res.fvalue) # F-value of the Linear regression that we assure of explanation of the variation in Y is significant\n",
    "print(res.rsquared)\n",
    "print(res.ssr)\n",
    "print(res.ess)\n",
    "print(res.pvalues)"
   ]
  },
  {
   "cell_type": "code",
   "execution_count": null,
   "id": "0aabed62",
   "metadata": {},
   "outputs": [],
   "source": []
  }
 ],
 "metadata": {
  "kernelspec": {
   "display_name": "Python 3",
   "language": "python",
   "name": "python3"
  },
  "language_info": {
   "codemirror_mode": {
    "name": "ipython",
    "version": 3
   },
   "file_extension": ".py",
   "mimetype": "text/x-python",
   "name": "python",
   "nbconvert_exporter": "python",
   "pygments_lexer": "ipython3",
   "version": "3.8.8"
  }
 },
 "nbformat": 4,
 "nbformat_minor": 5
}
